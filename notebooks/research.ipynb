{
 "cells": [
  {
   "cell_type": "code",
   "execution_count": 1,
   "metadata": {},
   "outputs": [],
   "source": [
    "import pandas as pd"
   ]
  },
  {
   "cell_type": "code",
   "execution_count": 2,
   "metadata": {},
   "outputs": [],
   "source": [
    "import warnings"
   ]
  },
  {
   "cell_type": "code",
   "execution_count": 3,
   "metadata": {},
   "outputs": [],
   "source": [
    "warnings.filterwarnings('ignore')"
   ]
  },
  {
   "cell_type": "code",
   "execution_count": 5,
   "metadata": {},
   "outputs": [],
   "source": [
    "\n",
    "data=pd.read_csv(r'C:\\Users\\deyar\\OneDrive\\Desktop\\Flight_Ticket_Price_Prediction\\notebooks\\data\\flight.csv')"
   ]
  },
  {
   "cell_type": "code",
   "execution_count": 6,
   "metadata": {},
   "outputs": [],
   "source": [
    "cat=[]\n",
    "num=[]\n",
    "for i in data.columns:\n",
    "    if data[i].dtype=='object':\n",
    "        cat.append(i)\n",
    "    else:\n",
    "        num.append(i)"
   ]
  },
  {
   "cell_type": "code",
   "execution_count": 7,
   "metadata": {},
   "outputs": [],
   "source": [
    "data_cat=data[cat]"
   ]
  },
  {
   "cell_type": "code",
   "execution_count": 8,
   "metadata": {},
   "outputs": [],
   "source": [
    "data_num=data[num]"
   ]
  },
  {
   "cell_type": "code",
   "execution_count": 9,
   "metadata": {},
   "outputs": [
    {
     "name": "stdout",
     "output_type": "stream",
     "text": [
      "airline = ['SpiceJet' 'AirAsia' 'Vistara' 'GO_FIRST' 'Indigo' 'Air_India']\n",
      "flight = ['SG-8709' 'SG-8157' 'I5-764' ... '6E-7127' '6E-7259' 'AI-433']\n",
      "source_city = ['Delhi' 'Mumbai' 'Bangalore' 'Kolkata' 'Hyderabad' 'Chennai']\n",
      "departure_time = ['Evening' 'Early_Morning' 'Morning' 'Afternoon' 'Night' 'Late_Night']\n",
      "stops = ['zero' 'one' 'two_or_more']\n",
      "arrival_time = ['Night' 'Morning' 'Early_Morning' 'Afternoon' 'Evening' 'Late_Night']\n",
      "destination_city = ['Mumbai' 'Bangalore' 'Kolkata' 'Hyderabad' 'Chennai' 'Delhi']\n",
      "class = ['Economy' 'Business']\n"
     ]
    }
   ],
   "source": [
    "for i in data_cat.columns:\n",
    "    x=pd.unique(data_cat[i])\n",
    "    print(i,\"=\",x)"
   ]
  },
  {
   "cell_type": "code",
   "execution_count": 10,
   "metadata": {},
   "outputs": [],
   "source": [
    "for  j in data_cat.columns:\n",
    "    data_cat[j]=data_cat[j].astype('category').cat.codes"
   ]
  },
  {
   "cell_type": "code",
   "execution_count": 11,
   "metadata": {},
   "outputs": [],
   "source": [
    "data=pd.concat([data_cat,data_num],axis=1)"
   ]
  },
  {
   "cell_type": "code",
   "execution_count": 12,
   "metadata": {},
   "outputs": [],
   "source": [
    "y=data.iloc[:,-1:]"
   ]
  },
  {
   "cell_type": "code",
   "execution_count": 13,
   "metadata": {},
   "outputs": [],
   "source": [
    "x=data.iloc[:,:-1]"
   ]
  },
  {
   "cell_type": "code",
   "execution_count": 14,
   "metadata": {},
   "outputs": [],
   "source": [
    "from sklearn.preprocessing import StandardScaler"
   ]
  },
  {
   "cell_type": "code",
   "execution_count": 15,
   "metadata": {},
   "outputs": [],
   "source": [
    "from sklearn.model_selection import train_test_split,cross_val_score"
   ]
  },
  {
   "cell_type": "code",
   "execution_count": 16,
   "metadata": {},
   "outputs": [],
   "source": [
    "from sklearn.linear_model import ElasticNet"
   ]
  },
  {
   "cell_type": "code",
   "execution_count": 17,
   "metadata": {},
   "outputs": [],
   "source": [
    "import optuna"
   ]
  },
  {
   "cell_type": "code",
   "execution_count": 18,
   "metadata": {},
   "outputs": [],
   "source": [
    "s=StandardScaler()"
   ]
  },
  {
   "cell_type": "code",
   "execution_count": 19,
   "metadata": {},
   "outputs": [],
   "source": [
    "x_scaled=s.fit_transform(x)"
   ]
  },
  {
   "cell_type": "code",
   "execution_count": 20,
   "metadata": {},
   "outputs": [],
   "source": [
    "x_scaled=pd.DataFrame(x_scaled,columns=x.columns)"
   ]
  },
  {
   "cell_type": "code",
   "execution_count": 21,
   "metadata": {},
   "outputs": [],
   "source": [
    "x_train,x_test,y_train,y_test=train_test_split(x_scaled,y,test_size=.2,random_state=12)"
   ]
  },
  {
   "cell_type": "code",
   "execution_count": 22,
   "metadata": {},
   "outputs": [],
   "source": [
    "from sklearn.metrics import r2_score"
   ]
  },
  {
   "cell_type": "code",
   "execution_count": 23,
   "metadata": {},
   "outputs": [],
   "source": [
    "def objective(trial):\n",
    "    alpha=trial.suggest_float('alpha',.1,10,log=True)\n",
    "    l1_ratio=trial.suggest_float('l1_ratio',.1,1,log=True)\n",
    "    max_iter=trial.suggest_int('max_iter',1000,10000)\n",
    "    model=ElasticNet(alpha=alpha,\n",
    "    l1_ratio=l1_ratio,\n",
    "    max_iter=max_iter\n",
    "    )\n",
    "    model.fit(x_train,y_train)\n",
    "    p=model.predict(x_test)\n",
    "    v=r2_score(y_test,p)\n",
    "    return v"
   ]
  },
  {
   "cell_type": "code",
   "execution_count": 24,
   "metadata": {},
   "outputs": [
    {
     "name": "stderr",
     "output_type": "stream",
     "text": [
      "[I 2024-04-05 00:18:11,648] A new study created in memory with name: no-name-e1975e75-c336-4e2f-a296-f79aa4456704\n"
     ]
    }
   ],
   "source": [
    "study=optuna.create_study(direction='maximize')"
   ]
  },
  {
   "cell_type": "code",
   "execution_count": 25,
   "metadata": {},
   "outputs": [
    {
     "name": "stderr",
     "output_type": "stream",
     "text": [
      "[I 2024-04-05 00:18:23,922] Trial 0 finished with value: 0.8524466215776527 and parameters: {'alpha': 0.38941772034419203, 'l1_ratio': 0.10273728697841474, 'max_iter': 3678}. Best is trial 0 with value: 0.8524466215776527.\n",
      "[I 2024-04-05 00:18:24,622] Trial 1 finished with value: 0.5491177882942742 and parameters: {'alpha': 3.969417723950345, 'l1_ratio': 0.28508966226632176, 'max_iter': 9935}. Best is trial 0 with value: 0.8524466215776527.\n",
      "[I 2024-04-05 00:18:25,614] Trial 2 finished with value: 0.8446306850371533 and parameters: {'alpha': 0.49990914964988015, 'l1_ratio': 0.2039066839256325, 'max_iter': 4111}. Best is trial 0 with value: 0.8524466215776527.\n",
      "[I 2024-04-05 00:18:25,742] Trial 3 finished with value: 0.5738901615234979 and parameters: {'alpha': 6.446442912566151, 'l1_ratio': 0.6037053683465234, 'max_iter': 2542}. Best is trial 0 with value: 0.8524466215776527.\n",
      "[I 2024-04-05 00:18:25,789] Trial 4 finished with value: 0.30562986799357517 and parameters: {'alpha': 9.815074899918732, 'l1_ratio': 0.1957361340585086, 'max_iter': 6763}. Best is trial 0 with value: 0.8524466215776527.\n",
      "[I 2024-04-05 00:18:25,889] Trial 5 finished with value: 0.8959164933385124 and parameters: {'alpha': 0.10095767406165256, 'l1_ratio': 0.15814375848302192, 'max_iter': 6462}. Best is trial 5 with value: 0.8959164933385124.\n",
      "[I 2024-04-05 00:18:25,947] Trial 6 finished with value: 0.6793395214294446 and parameters: {'alpha': 2.283936412056049, 'l1_ratio': 0.31638685312897874, 'max_iter': 3142}. Best is trial 5 with value: 0.8959164933385124.\n",
      "[I 2024-04-05 00:18:26,021] Trial 7 finished with value: 0.8963936946151991 and parameters: {'alpha': 0.6560612886890744, 'l1_ratio': 0.87523071823173, 'max_iter': 5964}. Best is trial 7 with value: 0.8963936946151991.\n",
      "[I 2024-04-05 00:18:26,079] Trial 8 finished with value: 0.7648505827140386 and parameters: {'alpha': 1.4329661396757987, 'l1_ratio': 0.3573098697988465, 'max_iter': 1940}. Best is trial 7 with value: 0.8963936946151991.\n",
      "[I 2024-04-05 00:18:26,160] Trial 9 finished with value: 0.8967374861769918 and parameters: {'alpha': 0.14109776286607087, 'l1_ratio': 0.43596516667004254, 'max_iter': 5418}. Best is trial 9 with value: 0.8967374861769918.\n",
      "[I 2024-04-05 00:18:26,317] Trial 10 finished with value: 0.8986324402429625 and parameters: {'alpha': 0.1508228146742817, 'l1_ratio': 0.5581262726431849, 'max_iter': 8307}. Best is trial 10 with value: 0.8986324402429625.\n",
      "[I 2024-04-05 00:18:26,399] Trial 11 finished with value: 0.900649938972188 and parameters: {'alpha': 0.10477794724646243, 'l1_ratio': 0.5061922604080688, 'max_iter': 8655}. Best is trial 11 with value: 0.900649938972188.\n",
      "[I 2024-04-05 00:18:26,542] Trial 12 finished with value: 0.8950131955700137 and parameters: {'alpha': 0.21927072490185115, 'l1_ratio': 0.5857218685561026, 'max_iter': 9559}. Best is trial 11 with value: 0.900649938972188.\n",
      "[I 2024-04-05 00:18:26,646] Trial 13 finished with value: 0.9030873498684031 and parameters: {'alpha': 0.2378926455490921, 'l1_ratio': 0.8736256277821923, 'max_iter': 8146}. Best is trial 13 with value: 0.9030873498684031.\n",
      "[I 2024-04-05 00:18:26,755] Trial 14 finished with value: 0.9037738058526205 and parameters: {'alpha': 0.22892042453497718, 'l1_ratio': 0.9040655077505613, 'max_iter': 8394}. Best is trial 14 with value: 0.9037738058526205.\n",
      "[I 2024-04-05 00:18:26,852] Trial 15 finished with value: 0.9030993751771945 and parameters: {'alpha': 0.30564510310536736, 'l1_ratio': 0.9020566504578522, 'max_iter': 7859}. Best is trial 14 with value: 0.9037738058526205.\n",
      "[I 2024-04-05 00:18:26,935] Trial 16 finished with value: 0.8794340849898074 and parameters: {'alpha': 0.7908351408935449, 'l1_ratio': 0.7653470616607384, 'max_iter': 7457}. Best is trial 14 with value: 0.9037738058526205.\n",
      "[I 2024-04-05 00:18:27,024] Trial 17 finished with value: 0.8959639563226215 and parameters: {'alpha': 0.30583435054904085, 'l1_ratio': 0.7231195110625864, 'max_iter': 4912}. Best is trial 14 with value: 0.9037738058526205.\n",
      "[I 2024-04-05 00:18:27,111] Trial 18 finished with value: 0.9044237401930635 and parameters: {'alpha': 1.0168848740217804, 'l1_ratio': 0.9892007779674672, 'max_iter': 7395}. Best is trial 18 with value: 0.9044237401930635.\n",
      "[I 2024-04-05 00:18:27,202] Trial 19 finished with value: 0.8973815922906468 and parameters: {'alpha': 1.31648962301214, 'l1_ratio': 0.9428342801482776, 'max_iter': 9037}. Best is trial 18 with value: 0.9044237401930635.\n",
      "[I 2024-04-05 00:18:27,259] Trial 20 finished with value: 0.7002463327875992 and parameters: {'alpha': 2.5064423158885445, 'l1_ratio': 0.443755149659029, 'max_iter': 7127}. Best is trial 18 with value: 0.9044237401930635.\n",
      "[I 2024-04-05 00:18:27,379] Trial 21 finished with value: 0.8860826996154677 and parameters: {'alpha': 0.5026697292748178, 'l1_ratio': 0.709982378538293, 'max_iter': 7675}. Best is trial 18 with value: 0.9044237401930635.\n",
      "[I 2024-04-05 00:18:27,461] Trial 22 finished with value: 0.8973235056628363 and parameters: {'alpha': 1.0655073409556843, 'l1_ratio': 0.9289966549909867, 'max_iter': 9109}. Best is trial 18 with value: 0.9044237401930635.\n",
      "[I 2024-04-05 00:18:27,554] Trial 23 finished with value: 0.9046459039494508 and parameters: {'alpha': 0.22107812884824635, 'l1_ratio': 0.9972483956217508, 'max_iter': 7899}. Best is trial 23 with value: 0.9046459039494508.\n",
      "[I 2024-04-05 00:18:27,682] Trial 24 finished with value: 0.8100442946399822 and parameters: {'alpha': 2.0389825199284632, 'l1_ratio': 0.6967811104430778, 'max_iter': 6507}. Best is trial 23 with value: 0.9046459039494508.\n",
      "[I 2024-04-05 00:18:27,799] Trial 25 finished with value: 0.9046424391246175 and parameters: {'alpha': 0.17451343015622695, 'l1_ratio': 0.9884232314920675, 'max_iter': 5796}. Best is trial 23 with value: 0.9046459039494508.\n",
      "[I 2024-04-05 00:18:27,907] Trial 26 finished with value: 0.9046342536864 and parameters: {'alpha': 0.16401504231205702, 'l1_ratio': 0.9814487101434576, 'max_iter': 4876}. Best is trial 23 with value: 0.9046459039494508.\n",
      "[I 2024-04-05 00:18:27,984] Trial 27 finished with value: 0.9007184311029266 and parameters: {'alpha': 0.14733227751683725, 'l1_ratio': 0.6524672318969289, 'max_iter': 4446}. Best is trial 23 with value: 0.9046459039494508.\n",
      "[I 2024-04-05 00:18:28,057] Trial 28 finished with value: 0.8942336458051252 and parameters: {'alpha': 0.1818888433309263, 'l1_ratio': 0.4732181475784772, 'max_iter': 5505}. Best is trial 23 with value: 0.9046459039494508.\n",
      "[I 2024-04-05 00:18:28,135] Trial 29 finished with value: 0.8967313624566404 and parameters: {'alpha': 0.35850961961606653, 'l1_ratio': 0.7779033214300153, 'max_iter': 1146}. Best is trial 23 with value: 0.9046459039494508.\n",
      "[I 2024-04-05 00:18:28,200] Trial 30 finished with value: 0.8609010423992177 and parameters: {'alpha': 0.479562142957138, 'l1_ratio': 0.37977745739151675, 'max_iter': 3307}. Best is trial 23 with value: 0.9046459039494508.\n",
      "[I 2024-04-05 00:18:28,438] Trial 31 finished with value: 0.9046172318975881 and parameters: {'alpha': 0.2607036853659411, 'l1_ratio': 0.9833410751296034, 'max_iter': 5857}. Best is trial 23 with value: 0.9046459039494508.\n",
      "[I 2024-04-05 00:18:28,507] Trial 32 finished with value: 0.8997712049271366 and parameters: {'alpha': 0.2670472872985012, 'l1_ratio': 0.7812202716657068, 'max_iter': 4955}. Best is trial 23 with value: 0.9046459039494508.\n",
      "[I 2024-04-05 00:18:28,615] Trial 33 finished with value: 0.9046367496089925 and parameters: {'alpha': 0.16383797590395235, 'l1_ratio': 0.9829964995807841, 'max_iter': 5906}. Best is trial 23 with value: 0.9046459039494508.\n",
      "[I 2024-04-05 00:18:28,682] Trial 34 finished with value: 0.8830360550912997 and parameters: {'alpha': 0.18366367062196853, 'l1_ratio': 0.10676212123986971, 'max_iter': 4079}. Best is trial 23 with value: 0.9046459039494508.\n",
      "[I 2024-04-05 00:18:28,762] Trial 35 finished with value: 0.9037360561033698 and parameters: {'alpha': 0.1193807972228539, 'l1_ratio': 0.8118573774314184, 'max_iter': 4790}. Best is trial 23 with value: 0.9046459039494508.\n",
      "[I 2024-04-05 00:18:28,880] Trial 36 finished with value: 0.8881280184505574 and parameters: {'alpha': 0.1820876720601436, 'l1_ratio': 0.2670491943039149, 'max_iter': 6029}. Best is trial 23 with value: 0.9046459039494508.\n",
      "[I 2024-04-05 00:18:28,958] Trial 37 finished with value: 0.8826321505472191 and parameters: {'alpha': 0.40202161534560504, 'l1_ratio': 0.5859283437764392, 'max_iter': 6799}. Best is trial 23 with value: 0.9046459039494508.\n",
      "[I 2024-04-05 00:18:29,052] Trial 38 finished with value: 0.8925106325200473 and parameters: {'alpha': 0.14130673661961796, 'l1_ratio': 0.2453521981011918, 'max_iter': 3806}. Best is trial 23 with value: 0.9046459039494508.\n",
      "[I 2024-04-05 00:18:29,116] Trial 39 finished with value: 0.8757633294910281 and parameters: {'alpha': 0.596138905081224, 'l1_ratio': 0.6518475107323851, 'max_iter': 5380}. Best is trial 23 with value: 0.9046459039494508.\n",
      "[I 2024-04-05 00:18:29,202] Trial 40 finished with value: 0.9038000399310343 and parameters: {'alpha': 0.12037764553328814, 'l1_ratio': 0.8204885261801191, 'max_iter': 2691}. Best is trial 23 with value: 0.9046459039494508.\n",
      "[I 2024-04-05 00:18:29,280] Trial 41 finished with value: 0.9045416106020154 and parameters: {'alpha': 0.18827190334617913, 'l1_ratio': 0.9592877697612614, 'max_iter': 6130}. Best is trial 23 with value: 0.9046459039494508.\n",
      "[I 2024-04-05 00:18:29,360] Trial 42 finished with value: 0.9046419444990673 and parameters: {'alpha': 0.3636957113237349, 'l1_ratio': 0.9941862770244818, 'max_iter': 5845}. Best is trial 23 with value: 0.9046459039494508.\n",
      "[I 2024-04-05 00:18:29,437] Trial 43 finished with value: 0.899811543093316 and parameters: {'alpha': 0.39400544043341335, 'l1_ratio': 0.8524781273299002, 'max_iter': 4464}. Best is trial 23 with value: 0.9046459039494508.\n",
      "[I 2024-04-05 00:18:29,517] Trial 44 finished with value: 0.9046449675275303 and parameters: {'alpha': 0.31006809045511163, 'l1_ratio': 0.9952967168973734, 'max_iter': 6959}. Best is trial 23 with value: 0.9046459039494508.\n",
      "[I 2024-04-05 00:18:29,604] Trial 45 finished with value: 0.891514275354139 and parameters: {'alpha': 0.32210686508590486, 'l1_ratio': 0.6497948216113647, 'max_iter': 6766}. Best is trial 23 with value: 0.9046459039494508.\n",
      "[I 2024-04-05 00:18:29,666] Trial 46 finished with value: 0.8144202632720628 and parameters: {'alpha': 0.7001925787715096, 'l1_ratio': 0.15733069069423408, 'max_iter': 7133}. Best is trial 23 with value: 0.9046459039494508.\n",
      "[I 2024-04-05 00:18:29,723] Trial 47 finished with value: 0.5614190708666794 and parameters: {'alpha': 5.6419684292994186, 'l1_ratio': 0.5224719041492174, 'max_iter': 6467}. Best is trial 23 with value: 0.9046459039494508.\n",
      "[I 2024-04-05 00:18:29,806] Trial 48 finished with value: 0.9027344638942485 and parameters: {'alpha': 0.21596162182814815, 'l1_ratio': 0.8440195461369974, 'max_iter': 5517}. Best is trial 23 with value: 0.9046459039494508.\n",
      "[I 2024-04-05 00:18:29,878] Trial 49 finished with value: 0.891833730767569 and parameters: {'alpha': 0.4447265165693241, 'l1_ratio': 0.7507908482922415, 'max_iter': 8014}. Best is trial 23 with value: 0.9046459039494508.\n",
      "[I 2024-04-05 00:18:29,957] Trial 50 finished with value: 0.9042521892868505 and parameters: {'alpha': 0.12332382164392981, 'l1_ratio': 0.8818948367424994, 'max_iter': 6110}. Best is trial 23 with value: 0.9046459039494508.\n",
      "[I 2024-04-05 00:18:30,027] Trial 51 finished with value: 0.9046407542870484 and parameters: {'alpha': 0.16366647775624094, 'l1_ratio': 0.9860270326762897, 'max_iter': 5625}. Best is trial 23 with value: 0.9046459039494508.\n",
      "[I 2024-04-05 00:18:30,107] Trial 52 finished with value: 0.9046458534720129 and parameters: {'alpha': 0.10284700404850926, 'l1_ratio': 0.9904926753228119, 'max_iter': 5726}. Best is trial 23 with value: 0.9046459039494508.\n",
      "[I 2024-04-05 00:18:30,198] Trial 53 finished with value: 0.9042546298214085 and parameters: {'alpha': 0.11143741282292935, 'l1_ratio': 0.8697054839270343, 'max_iter': 5318}. Best is trial 23 with value: 0.9046459039494508.\n",
      "[I 2024-04-05 00:18:30,345] Trial 54 finished with value: 0.8966334783731683 and parameters: {'alpha': 0.27163469440549776, 'l1_ratio': 0.704479461626546, 'max_iter': 7269}. Best is trial 23 with value: 0.9046459039494508.\n",
      "[I 2024-04-05 00:18:30,430] Trial 55 finished with value: 0.9017376496671978 and parameters: {'alpha': 0.22384494292800805, 'l1_ratio': 0.8086145846473999, 'max_iter': 6922}. Best is trial 23 with value: 0.9046459039494508.\n",
      "[I 2024-04-05 00:18:30,527] Trial 56 finished with value: 0.9044557504609068 and parameters: {'alpha': 0.1067569303998451, 'l1_ratio': 0.9046705909398618, 'max_iter': 6395}. Best is trial 23 with value: 0.9046459039494508.\n",
      "[I 2024-04-05 00:18:30,624] Trial 57 finished with value: 0.9046450732927034 and parameters: {'alpha': 0.13554478906420495, 'l1_ratio': 0.9986451778276827, 'max_iter': 7665}. Best is trial 23 with value: 0.9046459039494508.\n",
      "[I 2024-04-05 00:18:30,717] Trial 58 finished with value: 0.9014446741841857 and parameters: {'alpha': 0.13181273000412416, 'l1_ratio': 0.6561492800389167, 'max_iter': 8488}. Best is trial 23 with value: 0.9046459039494508.\n",
      "[I 2024-04-05 00:18:30,804] Trial 59 finished with value: 0.8957061355201222 and parameters: {'alpha': 0.33734322619535123, 'l1_ratio': 0.7439969838451077, 'max_iter': 7873}. Best is trial 23 with value: 0.9046459039494508.\n",
      "[I 2024-04-05 00:18:30,889] Trial 60 finished with value: 0.903956264508413 and parameters: {'alpha': 0.2092806283704195, 'l1_ratio': 0.9072425179069528, 'max_iter': 8952}. Best is trial 23 with value: 0.9046459039494508.\n",
      "[I 2024-04-05 00:18:30,971] Trial 61 finished with value: 0.9046117746906435 and parameters: {'alpha': 0.1564398780631753, 'l1_ratio': 0.9701450949783814, 'max_iter': 7686}. Best is trial 23 with value: 0.9046459039494508.\n",
      "[I 2024-04-05 00:18:31,077] Trial 62 finished with value: 0.9046452041942199 and parameters: {'alpha': 0.10357318581324478, 'l1_ratio': 0.997722095913233, 'max_iter': 5701}. Best is trial 23 with value: 0.9046459039494508.\n",
      "[I 2024-04-05 00:18:31,162] Trial 63 finished with value: 0.9040937804939663 and parameters: {'alpha': 0.10193675181842908, 'l1_ratio': 0.8302839928853415, 'max_iter': 9626}. Best is trial 23 with value: 0.9046459039494508.\n",
      "[I 2024-04-05 00:18:31,244] Trial 64 finished with value: 0.9043104491567058 and parameters: {'alpha': 0.13180496074171083, 'l1_ratio': 0.8980133053197973, 'max_iter': 6351}. Best is trial 23 with value: 0.9046459039494508.\n",
      "[I 2024-04-05 00:18:31,342] Trial 65 finished with value: 0.903709961034511 and parameters: {'alpha': 0.10105085824804054, 'l1_ratio': 0.774365463705279, 'max_iter': 5777}. Best is trial 23 with value: 0.9046459039494508.\n",
      "[I 2024-04-05 00:18:31,436] Trial 66 finished with value: 0.9038245408806302 and parameters: {'alpha': 0.2822404474255127, 'l1_ratio': 0.9246131271440645, 'max_iter': 5116}. Best is trial 23 with value: 0.9046459039494508.\n",
      "[I 2024-04-05 00:18:31,546] Trial 67 finished with value: 0.9029782346189614 and parameters: {'alpha': 0.20172261838214506, 'l1_ratio': 0.8452686526026875, 'max_iter': 6990}. Best is trial 23 with value: 0.9046459039494508.\n",
      "[I 2024-04-05 00:18:31,635] Trial 68 finished with value: 0.882916282604913 and parameters: {'alpha': 0.2475318170177396, 'l1_ratio': 0.33434801958199883, 'max_iter': 7493}. Best is trial 23 with value: 0.9046459039494508.\n",
      "[I 2024-04-05 00:18:31,737] Trial 69 finished with value: 0.890900414878509 and parameters: {'alpha': 0.1435530973591433, 'l1_ratio': 0.18787779595077383, 'max_iter': 4480}. Best is trial 23 with value: 0.9046459039494508.\n",
      "[I 2024-04-05 00:18:31,835] Trial 70 finished with value: 0.9046449655651875 and parameters: {'alpha': 0.5292923069457555, 'l1_ratio': 0.9971974446589715, 'max_iter': 6619}. Best is trial 23 with value: 0.9046459039494508.\n",
      "[I 2024-04-05 00:18:31,920] Trial 71 finished with value: 0.9046265224633072 and parameters: {'alpha': 0.34920971845567234, 'l1_ratio': 0.9893886047262442, 'max_iter': 6688}. Best is trial 23 with value: 0.9046459039494508.\n",
      "[I 2024-04-05 00:18:32,002] Trial 72 finished with value: 0.9046299551337099 and parameters: {'alpha': 0.9256110467960292, 'l1_ratio': 0.9962774321382077, 'max_iter': 8125}. Best is trial 23 with value: 0.9046459039494508.\n",
      "[I 2024-04-05 00:18:32,088] Trial 73 finished with value: 0.901240412544219 and parameters: {'alpha': 0.5156003393766163, 'l1_ratio': 0.9088168196580051, 'max_iter': 6252}. Best is trial 23 with value: 0.9046459039494508.\n",
      "[I 2024-04-05 00:18:32,184] Trial 74 finished with value: 0.902718367676004 and parameters: {'alpha': 0.16916722433195355, 'l1_ratio': 0.7999340665435604, 'max_iter': 5174}. Best is trial 23 with value: 0.9046459039494508.\n",
      "[I 2024-04-05 00:18:32,269] Trial 75 finished with value: 0.8847146175689429 and parameters: {'alpha': 0.5980325398677235, 'l1_ratio': 0.7425045356159697, 'max_iter': 6597}. Best is trial 23 with value: 0.9046459039494508.\n",
      "[I 2024-04-05 00:18:32,367] Trial 76 finished with value: 0.9037965655842519 and parameters: {'alpha': 0.30093841305507457, 'l1_ratio': 0.9280355704015445, 'max_iter': 5692}. Best is trial 23 with value: 0.9046459039494508.\n",
      "[I 2024-04-05 00:18:32,467] Trial 77 finished with value: 0.8974380804068064 and parameters: {'alpha': 0.23965846620750855, 'l1_ratio': 0.6875395597670467, 'max_iter': 7635}. Best is trial 23 with value: 0.9046459039494508.\n",
      "[I 2024-04-05 00:18:32,550] Trial 78 finished with value: 0.8664567107246124 and parameters: {'alpha': 0.44356755108748497, 'l1_ratio': 0.40566886781055206, 'max_iter': 7196}. Best is trial 23 with value: 0.9046459039494508.\n",
      "[I 2024-04-05 00:18:32,658] Trial 79 finished with value: 0.9039946458389319 and parameters: {'alpha': 0.12522805921962288, 'l1_ratio': 0.8495392346313578, 'max_iter': 5975}. Best is trial 23 with value: 0.9046459039494508.\n",
      "[I 2024-04-05 00:18:32,736] Trial 80 finished with value: 0.9044137995959985 and parameters: {'alpha': 0.19156874774787722, 'l1_ratio': 0.9414825359443715, 'max_iter': 6193}. Best is trial 23 with value: 0.9046459039494508.\n",
      "[I 2024-04-05 00:18:32,814] Trial 81 finished with value: 0.9044861940944889 and parameters: {'alpha': 0.15923708174938528, 'l1_ratio': 0.9412093190168268, 'max_iter': 5733}. Best is trial 23 with value: 0.9046459039494508.\n",
      "[I 2024-04-05 00:18:32,900] Trial 82 finished with value: 0.9046453469291988 and parameters: {'alpha': 0.1140979655810717, 'l1_ratio': 0.9974498422475723, 'max_iter': 5506}. Best is trial 23 with value: 0.9046459039494508.\n",
      "[I 2024-04-05 00:18:32,981] Trial 83 finished with value: 0.9040921084964547 and parameters: {'alpha': 0.13695014301629846, 'l1_ratio': 0.8734790375148527, 'max_iter': 4822}. Best is trial 23 with value: 0.9046459039494508.\n",
      "[I 2024-04-05 00:18:33,073] Trial 84 finished with value: 0.904645769937276 and parameters: {'alpha': 0.11701113470204087, 'l1_ratio': 0.9955372888584879, 'max_iter': 6933}. Best is trial 23 with value: 0.9046459039494508.\n",
      "[I 2024-04-05 00:18:33,151] Trial 85 finished with value: 0.9038976299828704 and parameters: {'alpha': 0.11360671911313316, 'l1_ratio': 0.821678611452816, 'max_iter': 6935}. Best is trial 23 with value: 0.9046459039494508.\n",
      "[I 2024-04-05 00:18:33,234] Trial 86 finished with value: 0.9029894314295162 and parameters: {'alpha': 0.1450277306533947, 'l1_ratio': 0.7855868233594179, 'max_iter': 7361}. Best is trial 23 with value: 0.9046459039494508.\n",
      "[I 2024-04-05 00:18:33,329] Trial 87 finished with value: 0.9045418787355126 and parameters: {'alpha': 0.11652440533600235, 'l1_ratio': 0.9343133314731851, 'max_iter': 8716}. Best is trial 23 with value: 0.9046459039494508.\n",
      "[I 2024-04-05 00:18:33,420] Trial 88 finished with value: 0.9038371176645872 and parameters: {'alpha': 0.17858805146292284, 'l1_ratio': 0.8818271618544898, 'max_iter': 6538}. Best is trial 23 with value: 0.9046459039494508.\n",
      "[I 2024-04-05 00:18:33,526] Trial 89 finished with value: 0.9046455129919557 and parameters: {'alpha': 0.10018735022688421, 'l1_ratio': 0.987874204071966, 'max_iter': 8249}. Best is trial 23 with value: 0.9046459039494508.\n",
      "[I 2024-04-05 00:18:33,616] Trial 90 finished with value: 0.90422136993348 and parameters: {'alpha': 0.11270765170103753, 'l1_ratio': 0.8657587061733875, 'max_iter': 8397}. Best is trial 23 with value: 0.9046459039494508.\n",
      "[I 2024-04-05 00:18:33,703] Trial 91 finished with value: 0.9046457669017669 and parameters: {'alpha': 0.12871767234034204, 'l1_ratio': 0.995990178788364, 'max_iter': 8218}. Best is trial 23 with value: 0.9046459039494508.\n",
      "[I 2024-04-05 00:18:33,785] Trial 92 finished with value: 0.9045338231246322 and parameters: {'alpha': 0.12828648764556794, 'l1_ratio': 0.9382340191405498, 'max_iter': 7907}. Best is trial 23 with value: 0.9046459039494508.\n",
      "[I 2024-04-05 00:18:33,869] Trial 93 finished with value: 0.9046459074231786 and parameters: {'alpha': 0.1087747026545574, 'l1_ratio': 0.9916834803032861, 'max_iter': 7634}. Best is trial 93 with value: 0.9046459074231786.\n",
      "[I 2024-04-05 00:18:33,945] Trial 94 finished with value: 0.9045885374865285 and parameters: {'alpha': 0.10084719009536165, 'l1_ratio': 0.9420301865858675, 'max_iter': 8155}. Best is trial 93 with value: 0.9046459074231786.\n",
      "[I 2024-04-05 00:18:34,025] Trial 95 finished with value: 0.9040224690515725 and parameters: {'alpha': 0.15201884597755255, 'l1_ratio': 0.8788285782998185, 'max_iter': 8658}. Best is trial 93 with value: 0.9046459074231786.\n",
      "[I 2024-04-05 00:18:34,112] Trial 96 finished with value: 0.8935027963118783 and parameters: {'alpha': 0.11333452010175608, 'l1_ratio': 0.11383353400854608, 'max_iter': 7494}. Best is trial 93 with value: 0.9046459074231786.\n",
      "[I 2024-04-05 00:18:34,193] Trial 97 finished with value: 0.9035190931450932 and parameters: {'alpha': 0.13048263951756908, 'l1_ratio': 0.8069877090129092, 'max_iter': 8233}. Best is trial 93 with value: 0.9046459074231786.\n",
      "[I 2024-04-05 00:18:34,268] Trial 98 finished with value: 0.904608693928426 and parameters: {'alpha': 0.10189513943821311, 'l1_ratio': 0.9524629845636003, 'max_iter': 8802}. Best is trial 93 with value: 0.9046459074231786.\n",
      "[I 2024-04-05 00:18:34,333] Trial 99 finished with value: 0.904581057038313 and parameters: {'alpha': 9.38398268421834, 'l1_ratio': 0.9993395704449879, 'max_iter': 7759}. Best is trial 93 with value: 0.9046459074231786.\n"
     ]
    }
   ],
   "source": [
    "study.optimize(objective,n_trials=100)"
   ]
  },
  {
   "cell_type": "code",
   "execution_count": 26,
   "metadata": {},
   "outputs": [
    {
     "data": {
      "text/plain": [
       "{'alpha': 0.1087747026545574, 'l1_ratio': 0.9916834803032861, 'max_iter': 7634}"
      ]
     },
     "execution_count": 26,
     "metadata": {},
     "output_type": "execute_result"
    }
   ],
   "source": [
    "study.best_params"
   ]
  },
  {
   "cell_type": "code",
   "execution_count": 27,
   "metadata": {},
   "outputs": [
    {
     "data": {
      "text/plain": [
       "0.9046459074231786"
      ]
     },
     "execution_count": 27,
     "metadata": {},
     "output_type": "execute_result"
    }
   ],
   "source": [
    "study.best_value"
   ]
  },
  {
   "cell_type": "code",
   "execution_count": 28,
   "metadata": {},
   "outputs": [],
   "source": [
    "from sklearn.ensemble import RandomForestRegressor"
   ]
  },
  {
   "cell_type": "code",
   "execution_count": 29,
   "metadata": {},
   "outputs": [],
   "source": [
    "r=RandomForestRegressor()"
   ]
  },
  {
   "cell_type": "code",
   "execution_count": 30,
   "metadata": {},
   "outputs": [
    {
     "data": {
      "text/html": [
       "<style>#sk-container-id-1 {\n",
       "  /* Definition of color scheme common for light and dark mode */\n",
       "  --sklearn-color-text: black;\n",
       "  --sklearn-color-line: gray;\n",
       "  /* Definition of color scheme for unfitted estimators */\n",
       "  --sklearn-color-unfitted-level-0: #fff5e6;\n",
       "  --sklearn-color-unfitted-level-1: #f6e4d2;\n",
       "  --sklearn-color-unfitted-level-2: #ffe0b3;\n",
       "  --sklearn-color-unfitted-level-3: chocolate;\n",
       "  /* Definition of color scheme for fitted estimators */\n",
       "  --sklearn-color-fitted-level-0: #f0f8ff;\n",
       "  --sklearn-color-fitted-level-1: #d4ebff;\n",
       "  --sklearn-color-fitted-level-2: #b3dbfd;\n",
       "  --sklearn-color-fitted-level-3: cornflowerblue;\n",
       "\n",
       "  /* Specific color for light theme */\n",
       "  --sklearn-color-text-on-default-background: var(--sg-text-color, var(--theme-code-foreground, var(--jp-content-font-color1, black)));\n",
       "  --sklearn-color-background: var(--sg-background-color, var(--theme-background, var(--jp-layout-color0, white)));\n",
       "  --sklearn-color-border-box: var(--sg-text-color, var(--theme-code-foreground, var(--jp-content-font-color1, black)));\n",
       "  --sklearn-color-icon: #696969;\n",
       "\n",
       "  @media (prefers-color-scheme: dark) {\n",
       "    /* Redefinition of color scheme for dark theme */\n",
       "    --sklearn-color-text-on-default-background: var(--sg-text-color, var(--theme-code-foreground, var(--jp-content-font-color1, white)));\n",
       "    --sklearn-color-background: var(--sg-background-color, var(--theme-background, var(--jp-layout-color0, #111)));\n",
       "    --sklearn-color-border-box: var(--sg-text-color, var(--theme-code-foreground, var(--jp-content-font-color1, white)));\n",
       "    --sklearn-color-icon: #878787;\n",
       "  }\n",
       "}\n",
       "\n",
       "#sk-container-id-1 {\n",
       "  color: var(--sklearn-color-text);\n",
       "}\n",
       "\n",
       "#sk-container-id-1 pre {\n",
       "  padding: 0;\n",
       "}\n",
       "\n",
       "#sk-container-id-1 input.sk-hidden--visually {\n",
       "  border: 0;\n",
       "  clip: rect(1px 1px 1px 1px);\n",
       "  clip: rect(1px, 1px, 1px, 1px);\n",
       "  height: 1px;\n",
       "  margin: -1px;\n",
       "  overflow: hidden;\n",
       "  padding: 0;\n",
       "  position: absolute;\n",
       "  width: 1px;\n",
       "}\n",
       "\n",
       "#sk-container-id-1 div.sk-dashed-wrapped {\n",
       "  border: 1px dashed var(--sklearn-color-line);\n",
       "  margin: 0 0.4em 0.5em 0.4em;\n",
       "  box-sizing: border-box;\n",
       "  padding-bottom: 0.4em;\n",
       "  background-color: var(--sklearn-color-background);\n",
       "}\n",
       "\n",
       "#sk-container-id-1 div.sk-container {\n",
       "  /* jupyter's `normalize.less` sets `[hidden] { display: none; }`\n",
       "     but bootstrap.min.css set `[hidden] { display: none !important; }`\n",
       "     so we also need the `!important` here to be able to override the\n",
       "     default hidden behavior on the sphinx rendered scikit-learn.org.\n",
       "     See: https://github.com/scikit-learn/scikit-learn/issues/21755 */\n",
       "  display: inline-block !important;\n",
       "  position: relative;\n",
       "}\n",
       "\n",
       "#sk-container-id-1 div.sk-text-repr-fallback {\n",
       "  display: none;\n",
       "}\n",
       "\n",
       "div.sk-parallel-item,\n",
       "div.sk-serial,\n",
       "div.sk-item {\n",
       "  /* draw centered vertical line to link estimators */\n",
       "  background-image: linear-gradient(var(--sklearn-color-text-on-default-background), var(--sklearn-color-text-on-default-background));\n",
       "  background-size: 2px 100%;\n",
       "  background-repeat: no-repeat;\n",
       "  background-position: center center;\n",
       "}\n",
       "\n",
       "/* Parallel-specific style estimator block */\n",
       "\n",
       "#sk-container-id-1 div.sk-parallel-item::after {\n",
       "  content: \"\";\n",
       "  width: 100%;\n",
       "  border-bottom: 2px solid var(--sklearn-color-text-on-default-background);\n",
       "  flex-grow: 1;\n",
       "}\n",
       "\n",
       "#sk-container-id-1 div.sk-parallel {\n",
       "  display: flex;\n",
       "  align-items: stretch;\n",
       "  justify-content: center;\n",
       "  background-color: var(--sklearn-color-background);\n",
       "  position: relative;\n",
       "}\n",
       "\n",
       "#sk-container-id-1 div.sk-parallel-item {\n",
       "  display: flex;\n",
       "  flex-direction: column;\n",
       "}\n",
       "\n",
       "#sk-container-id-1 div.sk-parallel-item:first-child::after {\n",
       "  align-self: flex-end;\n",
       "  width: 50%;\n",
       "}\n",
       "\n",
       "#sk-container-id-1 div.sk-parallel-item:last-child::after {\n",
       "  align-self: flex-start;\n",
       "  width: 50%;\n",
       "}\n",
       "\n",
       "#sk-container-id-1 div.sk-parallel-item:only-child::after {\n",
       "  width: 0;\n",
       "}\n",
       "\n",
       "/* Serial-specific style estimator block */\n",
       "\n",
       "#sk-container-id-1 div.sk-serial {\n",
       "  display: flex;\n",
       "  flex-direction: column;\n",
       "  align-items: center;\n",
       "  background-color: var(--sklearn-color-background);\n",
       "  padding-right: 1em;\n",
       "  padding-left: 1em;\n",
       "}\n",
       "\n",
       "\n",
       "/* Toggleable style: style used for estimator/Pipeline/ColumnTransformer box that is\n",
       "clickable and can be expanded/collapsed.\n",
       "- Pipeline and ColumnTransformer use this feature and define the default style\n",
       "- Estimators will overwrite some part of the style using the `sk-estimator` class\n",
       "*/\n",
       "\n",
       "/* Pipeline and ColumnTransformer style (default) */\n",
       "\n",
       "#sk-container-id-1 div.sk-toggleable {\n",
       "  /* Default theme specific background. It is overwritten whether we have a\n",
       "  specific estimator or a Pipeline/ColumnTransformer */\n",
       "  background-color: var(--sklearn-color-background);\n",
       "}\n",
       "\n",
       "/* Toggleable label */\n",
       "#sk-container-id-1 label.sk-toggleable__label {\n",
       "  cursor: pointer;\n",
       "  display: block;\n",
       "  width: 100%;\n",
       "  margin-bottom: 0;\n",
       "  padding: 0.5em;\n",
       "  box-sizing: border-box;\n",
       "  text-align: center;\n",
       "}\n",
       "\n",
       "#sk-container-id-1 label.sk-toggleable__label-arrow:before {\n",
       "  /* Arrow on the left of the label */\n",
       "  content: \"▸\";\n",
       "  float: left;\n",
       "  margin-right: 0.25em;\n",
       "  color: var(--sklearn-color-icon);\n",
       "}\n",
       "\n",
       "#sk-container-id-1 label.sk-toggleable__label-arrow:hover:before {\n",
       "  color: var(--sklearn-color-text);\n",
       "}\n",
       "\n",
       "/* Toggleable content - dropdown */\n",
       "\n",
       "#sk-container-id-1 div.sk-toggleable__content {\n",
       "  max-height: 0;\n",
       "  max-width: 0;\n",
       "  overflow: hidden;\n",
       "  text-align: left;\n",
       "  /* unfitted */\n",
       "  background-color: var(--sklearn-color-unfitted-level-0);\n",
       "}\n",
       "\n",
       "#sk-container-id-1 div.sk-toggleable__content.fitted {\n",
       "  /* fitted */\n",
       "  background-color: var(--sklearn-color-fitted-level-0);\n",
       "}\n",
       "\n",
       "#sk-container-id-1 div.sk-toggleable__content pre {\n",
       "  margin: 0.2em;\n",
       "  border-radius: 0.25em;\n",
       "  color: var(--sklearn-color-text);\n",
       "  /* unfitted */\n",
       "  background-color: var(--sklearn-color-unfitted-level-0);\n",
       "}\n",
       "\n",
       "#sk-container-id-1 div.sk-toggleable__content.fitted pre {\n",
       "  /* unfitted */\n",
       "  background-color: var(--sklearn-color-fitted-level-0);\n",
       "}\n",
       "\n",
       "#sk-container-id-1 input.sk-toggleable__control:checked~div.sk-toggleable__content {\n",
       "  /* Expand drop-down */\n",
       "  max-height: 200px;\n",
       "  max-width: 100%;\n",
       "  overflow: auto;\n",
       "}\n",
       "\n",
       "#sk-container-id-1 input.sk-toggleable__control:checked~label.sk-toggleable__label-arrow:before {\n",
       "  content: \"▾\";\n",
       "}\n",
       "\n",
       "/* Pipeline/ColumnTransformer-specific style */\n",
       "\n",
       "#sk-container-id-1 div.sk-label input.sk-toggleable__control:checked~label.sk-toggleable__label {\n",
       "  color: var(--sklearn-color-text);\n",
       "  background-color: var(--sklearn-color-unfitted-level-2);\n",
       "}\n",
       "\n",
       "#sk-container-id-1 div.sk-label.fitted input.sk-toggleable__control:checked~label.sk-toggleable__label {\n",
       "  background-color: var(--sklearn-color-fitted-level-2);\n",
       "}\n",
       "\n",
       "/* Estimator-specific style */\n",
       "\n",
       "/* Colorize estimator box */\n",
       "#sk-container-id-1 div.sk-estimator input.sk-toggleable__control:checked~label.sk-toggleable__label {\n",
       "  /* unfitted */\n",
       "  background-color: var(--sklearn-color-unfitted-level-2);\n",
       "}\n",
       "\n",
       "#sk-container-id-1 div.sk-estimator.fitted input.sk-toggleable__control:checked~label.sk-toggleable__label {\n",
       "  /* fitted */\n",
       "  background-color: var(--sklearn-color-fitted-level-2);\n",
       "}\n",
       "\n",
       "#sk-container-id-1 div.sk-label label.sk-toggleable__label,\n",
       "#sk-container-id-1 div.sk-label label {\n",
       "  /* The background is the default theme color */\n",
       "  color: var(--sklearn-color-text-on-default-background);\n",
       "}\n",
       "\n",
       "/* On hover, darken the color of the background */\n",
       "#sk-container-id-1 div.sk-label:hover label.sk-toggleable__label {\n",
       "  color: var(--sklearn-color-text);\n",
       "  background-color: var(--sklearn-color-unfitted-level-2);\n",
       "}\n",
       "\n",
       "/* Label box, darken color on hover, fitted */\n",
       "#sk-container-id-1 div.sk-label.fitted:hover label.sk-toggleable__label.fitted {\n",
       "  color: var(--sklearn-color-text);\n",
       "  background-color: var(--sklearn-color-fitted-level-2);\n",
       "}\n",
       "\n",
       "/* Estimator label */\n",
       "\n",
       "#sk-container-id-1 div.sk-label label {\n",
       "  font-family: monospace;\n",
       "  font-weight: bold;\n",
       "  display: inline-block;\n",
       "  line-height: 1.2em;\n",
       "}\n",
       "\n",
       "#sk-container-id-1 div.sk-label-container {\n",
       "  text-align: center;\n",
       "}\n",
       "\n",
       "/* Estimator-specific */\n",
       "#sk-container-id-1 div.sk-estimator {\n",
       "  font-family: monospace;\n",
       "  border: 1px dotted var(--sklearn-color-border-box);\n",
       "  border-radius: 0.25em;\n",
       "  box-sizing: border-box;\n",
       "  margin-bottom: 0.5em;\n",
       "  /* unfitted */\n",
       "  background-color: var(--sklearn-color-unfitted-level-0);\n",
       "}\n",
       "\n",
       "#sk-container-id-1 div.sk-estimator.fitted {\n",
       "  /* fitted */\n",
       "  background-color: var(--sklearn-color-fitted-level-0);\n",
       "}\n",
       "\n",
       "/* on hover */\n",
       "#sk-container-id-1 div.sk-estimator:hover {\n",
       "  /* unfitted */\n",
       "  background-color: var(--sklearn-color-unfitted-level-2);\n",
       "}\n",
       "\n",
       "#sk-container-id-1 div.sk-estimator.fitted:hover {\n",
       "  /* fitted */\n",
       "  background-color: var(--sklearn-color-fitted-level-2);\n",
       "}\n",
       "\n",
       "/* Specification for estimator info (e.g. \"i\" and \"?\") */\n",
       "\n",
       "/* Common style for \"i\" and \"?\" */\n",
       "\n",
       ".sk-estimator-doc-link,\n",
       "a:link.sk-estimator-doc-link,\n",
       "a:visited.sk-estimator-doc-link {\n",
       "  float: right;\n",
       "  font-size: smaller;\n",
       "  line-height: 1em;\n",
       "  font-family: monospace;\n",
       "  background-color: var(--sklearn-color-background);\n",
       "  border-radius: 1em;\n",
       "  height: 1em;\n",
       "  width: 1em;\n",
       "  text-decoration: none !important;\n",
       "  margin-left: 1ex;\n",
       "  /* unfitted */\n",
       "  border: var(--sklearn-color-unfitted-level-1) 1pt solid;\n",
       "  color: var(--sklearn-color-unfitted-level-1);\n",
       "}\n",
       "\n",
       ".sk-estimator-doc-link.fitted,\n",
       "a:link.sk-estimator-doc-link.fitted,\n",
       "a:visited.sk-estimator-doc-link.fitted {\n",
       "  /* fitted */\n",
       "  border: var(--sklearn-color-fitted-level-1) 1pt solid;\n",
       "  color: var(--sklearn-color-fitted-level-1);\n",
       "}\n",
       "\n",
       "/* On hover */\n",
       "div.sk-estimator:hover .sk-estimator-doc-link:hover,\n",
       ".sk-estimator-doc-link:hover,\n",
       "div.sk-label-container:hover .sk-estimator-doc-link:hover,\n",
       ".sk-estimator-doc-link:hover {\n",
       "  /* unfitted */\n",
       "  background-color: var(--sklearn-color-unfitted-level-3);\n",
       "  color: var(--sklearn-color-background);\n",
       "  text-decoration: none;\n",
       "}\n",
       "\n",
       "div.sk-estimator.fitted:hover .sk-estimator-doc-link.fitted:hover,\n",
       ".sk-estimator-doc-link.fitted:hover,\n",
       "div.sk-label-container:hover .sk-estimator-doc-link.fitted:hover,\n",
       ".sk-estimator-doc-link.fitted:hover {\n",
       "  /* fitted */\n",
       "  background-color: var(--sklearn-color-fitted-level-3);\n",
       "  color: var(--sklearn-color-background);\n",
       "  text-decoration: none;\n",
       "}\n",
       "\n",
       "/* Span, style for the box shown on hovering the info icon */\n",
       ".sk-estimator-doc-link span {\n",
       "  display: none;\n",
       "  z-index: 9999;\n",
       "  position: relative;\n",
       "  font-weight: normal;\n",
       "  right: .2ex;\n",
       "  padding: .5ex;\n",
       "  margin: .5ex;\n",
       "  width: min-content;\n",
       "  min-width: 20ex;\n",
       "  max-width: 50ex;\n",
       "  color: var(--sklearn-color-text);\n",
       "  box-shadow: 2pt 2pt 4pt #999;\n",
       "  /* unfitted */\n",
       "  background: var(--sklearn-color-unfitted-level-0);\n",
       "  border: .5pt solid var(--sklearn-color-unfitted-level-3);\n",
       "}\n",
       "\n",
       ".sk-estimator-doc-link.fitted span {\n",
       "  /* fitted */\n",
       "  background: var(--sklearn-color-fitted-level-0);\n",
       "  border: var(--sklearn-color-fitted-level-3);\n",
       "}\n",
       "\n",
       ".sk-estimator-doc-link:hover span {\n",
       "  display: block;\n",
       "}\n",
       "\n",
       "/* \"?\"-specific style due to the `<a>` HTML tag */\n",
       "\n",
       "#sk-container-id-1 a.estimator_doc_link {\n",
       "  float: right;\n",
       "  font-size: 1rem;\n",
       "  line-height: 1em;\n",
       "  font-family: monospace;\n",
       "  background-color: var(--sklearn-color-background);\n",
       "  border-radius: 1rem;\n",
       "  height: 1rem;\n",
       "  width: 1rem;\n",
       "  text-decoration: none;\n",
       "  /* unfitted */\n",
       "  color: var(--sklearn-color-unfitted-level-1);\n",
       "  border: var(--sklearn-color-unfitted-level-1) 1pt solid;\n",
       "}\n",
       "\n",
       "#sk-container-id-1 a.estimator_doc_link.fitted {\n",
       "  /* fitted */\n",
       "  border: var(--sklearn-color-fitted-level-1) 1pt solid;\n",
       "  color: var(--sklearn-color-fitted-level-1);\n",
       "}\n",
       "\n",
       "/* On hover */\n",
       "#sk-container-id-1 a.estimator_doc_link:hover {\n",
       "  /* unfitted */\n",
       "  background-color: var(--sklearn-color-unfitted-level-3);\n",
       "  color: var(--sklearn-color-background);\n",
       "  text-decoration: none;\n",
       "}\n",
       "\n",
       "#sk-container-id-1 a.estimator_doc_link.fitted:hover {\n",
       "  /* fitted */\n",
       "  background-color: var(--sklearn-color-fitted-level-3);\n",
       "}\n",
       "</style><div id=\"sk-container-id-1\" class=\"sk-top-container\"><div class=\"sk-text-repr-fallback\"><pre>RandomForestRegressor()</pre><b>In a Jupyter environment, please rerun this cell to show the HTML representation or trust the notebook. <br />On GitHub, the HTML representation is unable to render, please try loading this page with nbviewer.org.</b></div><div class=\"sk-container\" hidden><div class=\"sk-item\"><div class=\"sk-estimator fitted sk-toggleable\"><input class=\"sk-toggleable__control sk-hidden--visually\" id=\"sk-estimator-id-1\" type=\"checkbox\" checked><label for=\"sk-estimator-id-1\" class=\"sk-toggleable__label fitted sk-toggleable__label-arrow fitted\">&nbsp;&nbsp;RandomForestRegressor<a class=\"sk-estimator-doc-link fitted\" rel=\"noreferrer\" target=\"_blank\" href=\"https://scikit-learn.org/1.4/modules/generated/sklearn.ensemble.RandomForestRegressor.html\">?<span>Documentation for RandomForestRegressor</span></a><span class=\"sk-estimator-doc-link fitted\">i<span>Fitted</span></span></label><div class=\"sk-toggleable__content fitted\"><pre>RandomForestRegressor()</pre></div> </div></div></div></div>"
      ],
      "text/plain": [
       "RandomForestRegressor()"
      ]
     },
     "execution_count": 30,
     "metadata": {},
     "output_type": "execute_result"
    }
   ],
   "source": [
    "r.fit(x_train,y_train)"
   ]
  },
  {
   "cell_type": "code",
   "execution_count": 31,
   "metadata": {},
   "outputs": [],
   "source": [
    "p=r.predict(x_test)"
   ]
  },
  {
   "cell_type": "code",
   "execution_count": 32,
   "metadata": {},
   "outputs": [
    {
     "data": {
      "text/plain": [
       "0.9913492278330446"
      ]
     },
     "execution_count": 32,
     "metadata": {},
     "output_type": "execute_result"
    }
   ],
   "source": [
    "r2_score(y_test,p)"
   ]
  },
  {
   "cell_type": "code",
   "execution_count": null,
   "metadata": {},
   "outputs": [],
   "source": []
  }
 ],
 "metadata": {
  "kernelspec": {
   "display_name": "Python 3",
   "language": "python",
   "name": "python3"
  },
  "language_info": {
   "codemirror_mode": {
    "name": "ipython",
    "version": 3
   },
   "file_extension": ".py",
   "mimetype": "text/x-python",
   "name": "python",
   "nbconvert_exporter": "python",
   "pygments_lexer": "ipython3",
   "version": "3.11.8"
  }
 },
 "nbformat": 4,
 "nbformat_minor": 2
}
